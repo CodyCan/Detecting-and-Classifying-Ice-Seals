{
 "cells": [
  {
   "cell_type": "code",
   "execution_count": 23,
   "id": "09e492ee-4107-41b7-b6da-d7dd42c7b4c6",
   "metadata": {},
   "outputs": [],
   "source": [
    "import pandas as pd\n",
    "import numpy as np\n",
    "import matplotlib.pyplot as plt"
   ]
  },
  {
   "cell_type": "code",
   "execution_count": 3,
   "id": "dc0221f4-8e52-4643-a6d6-264a1518c4bd",
   "metadata": {},
   "outputs": [],
   "source": [
    "df = pd.read_csv(\"surv_test_kamera_detections_20210212_full_paths.csv\")"
   ]
  },
  {
   "cell_type": "code",
   "execution_count": 4,
   "id": "0ff0a00e-162a-4156-a468-d92d5e05d38e",
   "metadata": {},
   "outputs": [
    {
     "name": "stdout",
     "output_type": "stream",
     "text": [
      "<class 'pandas.core.frame.DataFrame'>\n",
      "RangeIndex: 14311 entries, 0 to 14310\n",
      "Data columns (total 18 columns):\n",
      " #   Column           Non-Null Count  Dtype  \n",
      "---  ------           --------------  -----  \n",
      " 0   flight           14311 non-null  object \n",
      " 1   camera_view      14311 non-null  object \n",
      " 2   dt               14311 non-null  object \n",
      " 3   detection_id     14311 non-null  object \n",
      " 4   detection_type   14311 non-null  object \n",
      " 5   detection_score  14311 non-null  float64\n",
      " 6   rgb_image_name   14311 non-null  object \n",
      " 7   rgb_left         14311 non-null  int64  \n",
      " 8   rgb_right        14311 non-null  int64  \n",
      " 9   rgb_top          14311 non-null  int64  \n",
      " 10  rgb_bottom       14311 non-null  int64  \n",
      " 11  ir_image_name    14088 non-null  object \n",
      " 12  ir_left          14088 non-null  float64\n",
      " 13  ir_right         14088 non-null  float64\n",
      " 14  ir_top           14088 non-null  float64\n",
      " 15  ir_bottom        14088 non-null  float64\n",
      " 16  rgb_image_path   14311 non-null  object \n",
      " 17  ir_image_path    14088 non-null  object \n",
      "dtypes: float64(5), int64(4), object(9)\n",
      "memory usage: 2.0+ MB\n"
     ]
    },
    {
     "data": {
      "text/html": [
       "<div>\n",
       "<style scoped>\n",
       "    .dataframe tbody tr th:only-of-type {\n",
       "        vertical-align: middle;\n",
       "    }\n",
       "\n",
       "    .dataframe tbody tr th {\n",
       "        vertical-align: top;\n",
       "    }\n",
       "\n",
       "    .dataframe thead th {\n",
       "        text-align: right;\n",
       "    }\n",
       "</style>\n",
       "<table border=\"1\" class=\"dataframe\">\n",
       "  <thead>\n",
       "    <tr style=\"text-align: right;\">\n",
       "      <th></th>\n",
       "      <th>flight</th>\n",
       "      <th>camera_view</th>\n",
       "      <th>dt</th>\n",
       "      <th>detection_id</th>\n",
       "      <th>detection_type</th>\n",
       "      <th>detection_score</th>\n",
       "      <th>rgb_image_name</th>\n",
       "      <th>rgb_left</th>\n",
       "      <th>rgb_right</th>\n",
       "      <th>rgb_top</th>\n",
       "      <th>rgb_bottom</th>\n",
       "      <th>ir_image_name</th>\n",
       "      <th>ir_left</th>\n",
       "      <th>ir_right</th>\n",
       "      <th>ir_top</th>\n",
       "      <th>ir_bottom</th>\n",
       "      <th>rgb_image_path</th>\n",
       "      <th>ir_image_path</th>\n",
       "    </tr>\n",
       "  </thead>\n",
       "  <tbody>\n",
       "    <tr>\n",
       "      <th>0</th>\n",
       "      <td>fl04</td>\n",
       "      <td>C</td>\n",
       "      <td>20190510_000310.667291</td>\n",
       "      <td>test_kamera_fl04_C_81</td>\n",
       "      <td>ringed_seal</td>\n",
       "      <td>0.986021</td>\n",
       "      <td>test_kotz_2019_fl04_C_20190510_000310.667291_r...</td>\n",
       "      <td>3403</td>\n",
       "      <td>3471</td>\n",
       "      <td>474</td>\n",
       "      <td>418</td>\n",
       "      <td>test_kotz_2019_fl04_C_20190510_000310.667291_i...</td>\n",
       "      <td>344.486</td>\n",
       "      <td>350.924</td>\n",
       "      <td>73.9964</td>\n",
       "      <td>68.676</td>\n",
       "      <td>Images/fl04/CENT/test_kotz_2019_fl04_C_2019051...</td>\n",
       "      <td>Images/fl04/CENT/test_kotz_2019_fl04_C_2019051...</td>\n",
       "    </tr>\n",
       "    <tr>\n",
       "      <th>1</th>\n",
       "      <td>fl04</td>\n",
       "      <td>C</td>\n",
       "      <td>20190510_000311.417294</td>\n",
       "      <td>test_kamera_fl04_C_82</td>\n",
       "      <td>ringed_seal</td>\n",
       "      <td>0.723258</td>\n",
       "      <td>test_kotz_2019_fl04_C_20190510_000311.417294_r...</td>\n",
       "      <td>3114</td>\n",
       "      <td>3176</td>\n",
       "      <td>3534</td>\n",
       "      <td>3484</td>\n",
       "      <td>test_kotz_2019_fl04_C_20190510_000311.417294_i...</td>\n",
       "      <td>315.490</td>\n",
       "      <td>321.359</td>\n",
       "      <td>363.0450</td>\n",
       "      <td>358.294</td>\n",
       "      <td>Images/fl04/CENT/test_kotz_2019_fl04_C_2019051...</td>\n",
       "      <td>Images/fl04/CENT/test_kotz_2019_fl04_C_2019051...</td>\n",
       "    </tr>\n",
       "  </tbody>\n",
       "</table>\n",
       "</div>"
      ],
      "text/plain": [
       "  flight camera_view                      dt           detection_id  \\\n",
       "0   fl04           C  20190510_000310.667291  test_kamera_fl04_C_81   \n",
       "1   fl04           C  20190510_000311.417294  test_kamera_fl04_C_82   \n",
       "\n",
       "  detection_type  detection_score  \\\n",
       "0    ringed_seal         0.986021   \n",
       "1    ringed_seal         0.723258   \n",
       "\n",
       "                                      rgb_image_name  rgb_left  rgb_right  \\\n",
       "0  test_kotz_2019_fl04_C_20190510_000310.667291_r...      3403       3471   \n",
       "1  test_kotz_2019_fl04_C_20190510_000311.417294_r...      3114       3176   \n",
       "\n",
       "   rgb_top  rgb_bottom                                      ir_image_name  \\\n",
       "0      474         418  test_kotz_2019_fl04_C_20190510_000310.667291_i...   \n",
       "1     3534        3484  test_kotz_2019_fl04_C_20190510_000311.417294_i...   \n",
       "\n",
       "   ir_left  ir_right    ir_top  ir_bottom  \\\n",
       "0  344.486   350.924   73.9964     68.676   \n",
       "1  315.490   321.359  363.0450    358.294   \n",
       "\n",
       "                                      rgb_image_path  \\\n",
       "0  Images/fl04/CENT/test_kotz_2019_fl04_C_2019051...   \n",
       "1  Images/fl04/CENT/test_kotz_2019_fl04_C_2019051...   \n",
       "\n",
       "                                       ir_image_path  \n",
       "0  Images/fl04/CENT/test_kotz_2019_fl04_C_2019051...  \n",
       "1  Images/fl04/CENT/test_kotz_2019_fl04_C_2019051...  "
      ]
     },
     "execution_count": 4,
     "metadata": {},
     "output_type": "execute_result"
    }
   ],
   "source": [
    "df.info()\n",
    "df.head(2)"
   ]
  },
  {
   "cell_type": "code",
   "execution_count": 31,
   "id": "87099747-329d-4e49-808d-96582ea4f29d",
   "metadata": {},
   "outputs": [
    {
     "data": {
      "text/plain": [
       "(4113, 4113)"
      ]
     },
     "execution_count": 31,
     "metadata": {},
     "output_type": "execute_result"
    }
   ],
   "source": [
    "df[\"rgb_image_name\"].unique().shape[0], df[\"rgb_image_path\"].unique().shape[0]"
   ]
  },
  {
   "cell_type": "code",
   "execution_count": 32,
   "id": "e1425738-6c4f-4808-938a-34181e5f85ae",
   "metadata": {},
   "outputs": [
    {
     "data": {
      "text/plain": [
       "(4075, 4075)"
      ]
     },
     "execution_count": 32,
     "metadata": {},
     "output_type": "execute_result"
    }
   ],
   "source": [
    "df[\"ir_image_name\"].unique().shape[0], df[\"ir_image_path\"].unique().shape[0]"
   ]
  },
  {
   "cell_type": "code",
   "execution_count": 11,
   "id": "ada4cea5-f787-43ef-8cf0-a828970825a7",
   "metadata": {},
   "outputs": [
    {
     "data": {
      "text/plain": [
       "count    14311.000000\n",
       "mean         0.994097\n",
       "std          0.031190\n",
       "min          0.549161\n",
       "25%          1.000000\n",
       "50%          1.000000\n",
       "75%          1.000000\n",
       "max          1.000000\n",
       "Name: detection_score, dtype: float64"
      ]
     },
     "execution_count": 11,
     "metadata": {},
     "output_type": "execute_result"
    }
   ],
   "source": [
    "df[\"detection_score\"].describe()\n",
    "#mostly 1\n",
    "#where are the scores from?"
   ]
  },
  {
   "cell_type": "code",
   "execution_count": 33,
   "id": "b5a7fafe-f64e-4e0b-8650-bb153e9f679c",
   "metadata": {},
   "outputs": [
    {
     "data": {
      "text/plain": [
       "0.853894    2\n",
       "0.707413    1\n",
       "0.808956    1\n",
       "0.895873    1\n",
       "0.805325    1\n",
       "           ..\n",
       "0.853090    1\n",
       "0.742924    1\n",
       "0.710939    1\n",
       "0.803517    1\n",
       "0.780860    1\n",
       "Name: detection_score, Length: 286, dtype: int64"
      ]
     },
     "execution_count": 33,
     "metadata": {},
     "output_type": "execute_result"
    }
   ],
   "source": [
    "df[\"detection_score\"].value_counts().loc[lambda x: x.index < 0.9]\n",
    "#only 286 with detection score < 0.9\n",
    "#should we keep only score > 0.9?"
   ]
  },
  {
   "cell_type": "code",
   "execution_count": 6,
   "id": "b45c6c01-ee90-4616-aebf-518ab6c156fd",
   "metadata": {},
   "outputs": [
    {
     "data": {
      "text/plain": [
       "fl04    6913\n",
       "fl07    3797\n",
       "fl05    2811\n",
       "fl06     790\n",
       "Name: flight, dtype: int64"
      ]
     },
     "execution_count": 6,
     "metadata": {},
     "output_type": "execute_result"
    }
   ],
   "source": [
    "df[\"flight\"].value_counts()"
   ]
  },
  {
   "cell_type": "code",
   "execution_count": 25,
   "id": "bad81e30-751e-4ad2-a4b3-15cb6e9d1dcb",
   "metadata": {},
   "outputs": [
    {
     "data": {
      "text/plain": [
       "ringed_seal     0.7953\n",
       "unknown_seal    0.1131\n",
       "bearded_seal    0.0484\n",
       "ringed_pup      0.0245\n",
       "unknown_pup     0.0182\n",
       "bearded_pup     0.0005\n",
       "Name: detection_type, dtype: float64"
      ]
     },
     "execution_count": 25,
     "metadata": {},
     "output_type": "execute_result"
    }
   ],
   "source": [
    "df[\"detection_type\"].value_counts(normalize=True).round(4)\n",
    "#80% ringed_seal"
   ]
  },
  {
   "cell_type": "code",
   "execution_count": null,
   "id": "928084b0-0855-4173-9697-202e76aedbe5",
   "metadata": {},
   "outputs": [],
   "source": []
  },
  {
   "cell_type": "code",
   "execution_count": null,
   "id": "e2c978a3-0a0c-4368-8024-d97e9e38d7e8",
   "metadata": {},
   "outputs": [],
   "source": []
  },
  {
   "cell_type": "code",
   "execution_count": null,
   "id": "bc4708ef-38f8-459b-adc7-c402ce12a79c",
   "metadata": {},
   "outputs": [],
   "source": []
  },
  {
   "cell_type": "code",
   "execution_count": null,
   "id": "52aa4080-032f-4a14-aca2-5c55bb6b91ad",
   "metadata": {},
   "outputs": [],
   "source": []
  },
  {
   "cell_type": "code",
   "execution_count": 17,
   "id": "3c6bf0b3-e274-47ed-b1f6-d06e02c35431",
   "metadata": {},
   "outputs": [],
   "source": [
    "def isAlienSorted(words, order):\n",
    "        #padding to make all words of the same length\n",
    "        max_len = max([len(word) for word in words])\n",
    "        padded_words = [word.ljust(max_len) for word in words]\n",
    "        #add space character at the front of order\n",
    "        order = \" \" + order\n",
    "        # #loop thru 1 char from each word at a time\n",
    "        # idx_list = []\n",
    "        # ans = True\n",
    "        # for idx in range(max_len):\n",
    "        #     for word in padded_words:\n",
    "        #         idx_list.append(order.index(word[idx]))\n",
    "        #     if idx_list != sorted(idx_list):\n",
    "        #         ans = False\n",
    "        #         break\n",
    "        # return(ans)\n",
    "        return(padded_words, order)"
   ]
  },
  {
   "cell_type": "code",
   "execution_count": 18,
   "id": "becdb716-2f38-4353-899a-fd1bcd1497d2",
   "metadata": {},
   "outputs": [],
   "source": [
    "words = [\"word\",\"world\",\"row\"]\n",
    "order = \"worldabcefghijkmnpqstuvxyz\""
   ]
  },
  {
   "cell_type": "code",
   "execution_count": 19,
   "id": "9e93a4b5-4e56-44db-b96d-79aa8c56e5d7",
   "metadata": {},
   "outputs": [
    {
     "data": {
      "text/plain": [
       "(['word ', 'world', 'row  '], ' worldabcefghijkmnpqstuvxyz')"
      ]
     },
     "execution_count": 19,
     "metadata": {},
     "output_type": "execute_result"
    }
   ],
   "source": [
    "isAlienSorted(words, order)"
   ]
  },
  {
   "cell_type": "code",
   "execution_count": 21,
   "id": "851eabb3-8e9d-495d-a1a8-aa9868ea3f8c",
   "metadata": {},
   "outputs": [
    {
     "data": {
      "text/plain": [
       "1"
      ]
     },
     "execution_count": 21,
     "metadata": {},
     "output_type": "execute_result"
    }
   ],
   "source": [
    "order = \" \"+order\n",
    "order.index(\"w\")"
   ]
  },
  {
   "cell_type": "code",
   "execution_count": 26,
   "id": "9039413e-ade3-4092-b2fc-c62a6a3547e9",
   "metadata": {},
   "outputs": [
    {
     "data": {
      "text/plain": [
       "[[-1, 0]]"
      ]
     },
     "execution_count": 26,
     "metadata": {},
     "output_type": "execute_result"
    }
   ],
   "source": [
    "arr = [[1,2]]\n",
    "arr = [item[::-1] for item in arr]\n",
    "arr = [[1-pix for pix in item] for item in arr]\n",
    "arr"
   ]
  },
  {
   "cell_type": "code",
   "execution_count": 34,
   "id": "1a6176fa-d291-4ca7-bbad-c5b99975fff5",
   "metadata": {},
   "outputs": [
    {
     "data": {
      "text/plain": [
       "<str_iterator at 0x7ff408277070>"
      ]
     },
     "execution_count": 34,
     "metadata": {},
     "output_type": "execute_result"
    }
   ],
   "source": [
    "w = \"python\"\n",
    "iter(w)"
   ]
  },
  {
   "cell_type": "code",
   "execution_count": 35,
   "id": "6d5f5159-f174-4e09-b4ff-770c820391f7",
   "metadata": {},
   "outputs": [
    {
     "name": "stdout",
     "output_type": "stream",
     "text": [
      "<str_iterator object at 0x7ff4082775b0>\n"
     ]
    }
   ],
   "source": [
    "print(iter(w))"
   ]
  },
  {
   "cell_type": "code",
   "execution_count": 37,
   "id": "47e3d3f3-fe48-41a3-9d61-d50c1ceb0e09",
   "metadata": {},
   "outputs": [
    {
     "data": {
      "text/plain": [
       "1"
      ]
     },
     "execution_count": 37,
     "metadata": {},
     "output_type": "execute_result"
    }
   ],
   "source": [
    "lst = [1, 2, 3, 4]\n",
    "\n",
    "lst_iterator = iter(lst)\n",
    "\n",
    "next(lst_iterator)"
   ]
  },
  {
   "cell_type": "code",
   "execution_count": null,
   "id": "22ecb47c-1789-4b3d-b100-374e0a1df330",
   "metadata": {},
   "outputs": [],
   "source": []
  }
 ],
 "metadata": {
  "kernelspec": {
   "display_name": "Python 3 (ipykernel)",
   "language": "python",
   "name": "python3"
  },
  "language_info": {
   "codemirror_mode": {
    "name": "ipython",
    "version": 3
   },
   "file_extension": ".py",
   "mimetype": "text/x-python",
   "name": "python",
   "nbconvert_exporter": "python",
   "pygments_lexer": "ipython3",
   "version": "3.9.7"
  }
 },
 "nbformat": 4,
 "nbformat_minor": 5
}
