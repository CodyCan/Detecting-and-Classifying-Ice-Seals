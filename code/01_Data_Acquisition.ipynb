{
 "cells": [
  {
   "cell_type": "markdown",
   "id": "e65511b3-f67a-49bb-9477-4147546abce3",
   "metadata": {},
   "source": [
    "# Download and Save Images to Local Machine"
   ]
  },
  {
   "cell_type": "code",
   "execution_count": 1,
   "id": "e2d9d9b6-eabe-43fb-a661-8e7c95d8995d",
   "metadata": {},
   "outputs": [],
   "source": [
    "import pandas as pd\n",
    "import numpy as np\n",
    "import matplotlib.pyplot as plt\n",
    "\n",
    "import requests # to get image from the web\n",
    "import shutil # to save it locally"
   ]
  },
  {
   "cell_type": "markdown",
   "id": "854e4d8f-ee49-42fb-9e3f-95708f6d2dff",
   "metadata": {},
   "source": [
    "## 1. Function to Download and Save Images"
   ]
  },
  {
   "cell_type": "markdown",
   "id": "c1dbcf04-ede1-428b-aa65-60e1d24a3185",
   "metadata": {},
   "source": [
    "### 1.1. Function"
   ]
  },
  {
   "cell_type": "code",
   "execution_count": 14,
   "id": "2c9d1570-c0d3-438c-b19d-4080ba759864",
   "metadata": {},
   "outputs": [],
   "source": [
    "# Credit: https://towardsdatascience.com/how-to-download-an-image-using-python-38a75cfa21c\n",
    "\n",
    "# Function to download images\n",
    "\n",
    "def get_images(base_url, img_id, folder_dir):\n",
    "    \"\"\"\n",
    "    Input:\n",
    "            base_url: address to Azure blob container where images are stored\n",
    "            img_id: image id\n",
    "            folder_dir: relative file path to a local directory where we want to save images to\n",
    "    Output:\n",
    "            image saved to the folder_dir\n",
    "    \"\"\"\n",
    "    \n",
    "    # Set up image URL\n",
    "    image_url = base_url+img_id\n",
    "\n",
    "    # Setup file path on local machine\n",
    "    file_name = img_id.split(\"/\")[-1]\n",
    "    file_path = folder_dir + file_name\n",
    "\n",
    "    # Open the url image, set stream to True, this will return the stream content.\n",
    "    r = requests.get(image_url, stream = True)\n",
    "\n",
    "    # Check if the image was retrieved successfully\n",
    "    if r.status_code == 200:\n",
    "        # Set decode_content value to True, otherwise the downloaded image file's size will be zero.\n",
    "        r.raw.decode_content = True\n",
    "\n",
    "        # Open a local file with wb ( write binary ) permission.\n",
    "        with open(file_path,'wb') as f:\n",
    "            shutil.copyfileobj(r.raw, f)\n",
    "\n",
    "        print('Image sucessfully Downloaded: ',file_name)\n",
    "    else:\n",
    "        print('Image Couldn\\'t be retreived')\n",
    "    \n",
    "    return"
   ]
  },
  {
   "cell_type": "markdown",
   "id": "995bc2aa-e604-46bc-a445-8f9a9ae15d16",
   "metadata": {},
   "source": [
    "### 1.2. Test the Function"
   ]
  },
  {
   "cell_type": "code",
   "execution_count": 15,
   "id": "3e9de828-eda4-4147-b277-5d69f3144221",
   "metadata": {},
   "outputs": [
    {
     "name": "stdout",
     "output_type": "stream",
     "text": [
      "Image sucessfully Downloaded:  test_kotz_2019_fl04_C_20190510_000310.667291_rgb.jpg\n"
     ]
    }
   ],
   "source": [
    "# Provide the base URL and image id\n",
    "base_url = \"https://lilablobssc.blob.core.windows.net/noaa-kotz/\"\n",
    "img_id = \"Images/fl04/CENT/test_kotz_2019_fl04_C_20190510_000310.667291_rgb.jpg\"\n",
    "# img_id = \"Images/fl04/CENT/test_kotz_2019_fl04_C_20190510_000310.667291_ir.tif\"\n",
    "\n",
    "# Provide target directory\n",
    "folder_dir = \"../data/train_rgb/\"\n",
    "\n",
    "# Download and save the image\n",
    "get_images(base_url, img_id, folder_dir)"
   ]
  },
  {
   "cell_type": "markdown",
   "id": "088b59ec-3995-4fef-b155-94c62aadbe47",
   "metadata": {},
   "source": [
    "## 2. (Train Data) Annotated Images to Download"
   ]
  },
  {
   "cell_type": "markdown",
   "id": "69c411ee-d315-4c66-903b-b741a5c2051a",
   "metadata": {},
   "source": [
    "### 2.1. List of Images"
   ]
  },
  {
   "cell_type": "code",
   "execution_count": 16,
   "id": "4402a6ce-b450-41a5-8e35-0308fb1f2390",
   "metadata": {},
   "outputs": [],
   "source": [
    "train_info = pd.read_csv(\"../data/surv_test_kamera_detections_20210212_full_paths.csv\")"
   ]
  },
  {
   "cell_type": "code",
   "execution_count": 17,
   "id": "cdb1766a-eb0f-4639-8feb-84865512fc73",
   "metadata": {},
   "outputs": [
    {
     "name": "stdout",
     "output_type": "stream",
     "text": [
      "<class 'pandas.core.frame.DataFrame'>\n",
      "RangeIndex: 14311 entries, 0 to 14310\n",
      "Data columns (total 18 columns):\n",
      " #   Column           Non-Null Count  Dtype  \n",
      "---  ------           --------------  -----  \n",
      " 0   flight           14311 non-null  object \n",
      " 1   camera_view      14311 non-null  object \n",
      " 2   dt               14311 non-null  object \n",
      " 3   detection_id     14311 non-null  object \n",
      " 4   detection_type   14311 non-null  object \n",
      " 5   detection_score  14311 non-null  float64\n",
      " 6   rgb_image_name   14311 non-null  object \n",
      " 7   rgb_left         14311 non-null  int64  \n",
      " 8   rgb_right        14311 non-null  int64  \n",
      " 9   rgb_top          14311 non-null  int64  \n",
      " 10  rgb_bottom       14311 non-null  int64  \n",
      " 11  ir_image_name    14088 non-null  object \n",
      " 12  ir_left          14088 non-null  float64\n",
      " 13  ir_right         14088 non-null  float64\n",
      " 14  ir_top           14088 non-null  float64\n",
      " 15  ir_bottom        14088 non-null  float64\n",
      " 16  rgb_image_path   14311 non-null  object \n",
      " 17  ir_image_path    14088 non-null  object \n",
      "dtypes: float64(5), int64(4), object(9)\n",
      "memory usage: 2.0+ MB\n"
     ]
    },
    {
     "data": {
      "text/html": [
       "<div>\n",
       "<style scoped>\n",
       "    .dataframe tbody tr th:only-of-type {\n",
       "        vertical-align: middle;\n",
       "    }\n",
       "\n",
       "    .dataframe tbody tr th {\n",
       "        vertical-align: top;\n",
       "    }\n",
       "\n",
       "    .dataframe thead th {\n",
       "        text-align: right;\n",
       "    }\n",
       "</style>\n",
       "<table border=\"1\" class=\"dataframe\">\n",
       "  <thead>\n",
       "    <tr style=\"text-align: right;\">\n",
       "      <th></th>\n",
       "      <th>flight</th>\n",
       "      <th>camera_view</th>\n",
       "      <th>dt</th>\n",
       "      <th>detection_id</th>\n",
       "      <th>detection_type</th>\n",
       "      <th>detection_score</th>\n",
       "      <th>rgb_image_name</th>\n",
       "      <th>rgb_left</th>\n",
       "      <th>rgb_right</th>\n",
       "      <th>rgb_top</th>\n",
       "      <th>rgb_bottom</th>\n",
       "      <th>ir_image_name</th>\n",
       "      <th>ir_left</th>\n",
       "      <th>ir_right</th>\n",
       "      <th>ir_top</th>\n",
       "      <th>ir_bottom</th>\n",
       "      <th>rgb_image_path</th>\n",
       "      <th>ir_image_path</th>\n",
       "    </tr>\n",
       "  </thead>\n",
       "  <tbody>\n",
       "    <tr>\n",
       "      <th>0</th>\n",
       "      <td>fl04</td>\n",
       "      <td>C</td>\n",
       "      <td>20190510_000310.667291</td>\n",
       "      <td>test_kamera_fl04_C_81</td>\n",
       "      <td>ringed_seal</td>\n",
       "      <td>0.986021</td>\n",
       "      <td>test_kotz_2019_fl04_C_20190510_000310.667291_r...</td>\n",
       "      <td>3403</td>\n",
       "      <td>3471</td>\n",
       "      <td>474</td>\n",
       "      <td>418</td>\n",
       "      <td>test_kotz_2019_fl04_C_20190510_000310.667291_i...</td>\n",
       "      <td>344.486</td>\n",
       "      <td>350.924</td>\n",
       "      <td>73.9964</td>\n",
       "      <td>68.676</td>\n",
       "      <td>Images/fl04/CENT/test_kotz_2019_fl04_C_2019051...</td>\n",
       "      <td>Images/fl04/CENT/test_kotz_2019_fl04_C_2019051...</td>\n",
       "    </tr>\n",
       "    <tr>\n",
       "      <th>1</th>\n",
       "      <td>fl04</td>\n",
       "      <td>C</td>\n",
       "      <td>20190510_000311.417294</td>\n",
       "      <td>test_kamera_fl04_C_82</td>\n",
       "      <td>ringed_seal</td>\n",
       "      <td>0.723258</td>\n",
       "      <td>test_kotz_2019_fl04_C_20190510_000311.417294_r...</td>\n",
       "      <td>3114</td>\n",
       "      <td>3176</td>\n",
       "      <td>3534</td>\n",
       "      <td>3484</td>\n",
       "      <td>test_kotz_2019_fl04_C_20190510_000311.417294_i...</td>\n",
       "      <td>315.490</td>\n",
       "      <td>321.359</td>\n",
       "      <td>363.0450</td>\n",
       "      <td>358.294</td>\n",
       "      <td>Images/fl04/CENT/test_kotz_2019_fl04_C_2019051...</td>\n",
       "      <td>Images/fl04/CENT/test_kotz_2019_fl04_C_2019051...</td>\n",
       "    </tr>\n",
       "  </tbody>\n",
       "</table>\n",
       "</div>"
      ],
      "text/plain": [
       "  flight camera_view                      dt           detection_id  \\\n",
       "0   fl04           C  20190510_000310.667291  test_kamera_fl04_C_81   \n",
       "1   fl04           C  20190510_000311.417294  test_kamera_fl04_C_82   \n",
       "\n",
       "  detection_type  detection_score  \\\n",
       "0    ringed_seal         0.986021   \n",
       "1    ringed_seal         0.723258   \n",
       "\n",
       "                                      rgb_image_name  rgb_left  rgb_right  \\\n",
       "0  test_kotz_2019_fl04_C_20190510_000310.667291_r...      3403       3471   \n",
       "1  test_kotz_2019_fl04_C_20190510_000311.417294_r...      3114       3176   \n",
       "\n",
       "   rgb_top  rgb_bottom                                      ir_image_name  \\\n",
       "0      474         418  test_kotz_2019_fl04_C_20190510_000310.667291_i...   \n",
       "1     3534        3484  test_kotz_2019_fl04_C_20190510_000311.417294_i...   \n",
       "\n",
       "   ir_left  ir_right    ir_top  ir_bottom  \\\n",
       "0  344.486   350.924   73.9964     68.676   \n",
       "1  315.490   321.359  363.0450    358.294   \n",
       "\n",
       "                                      rgb_image_path  \\\n",
       "0  Images/fl04/CENT/test_kotz_2019_fl04_C_2019051...   \n",
       "1  Images/fl04/CENT/test_kotz_2019_fl04_C_2019051...   \n",
       "\n",
       "                                       ir_image_path  \n",
       "0  Images/fl04/CENT/test_kotz_2019_fl04_C_2019051...  \n",
       "1  Images/fl04/CENT/test_kotz_2019_fl04_C_2019051...  "
      ]
     },
     "execution_count": 17,
     "metadata": {},
     "output_type": "execute_result"
    }
   ],
   "source": [
    "train_info.info()\n",
    "train_info.head(2)"
   ]
  },
  {
   "cell_type": "markdown",
   "id": "f061a492-8fef-4a36-846e-435760549db7",
   "metadata": {},
   "source": [
    "### 2.2. Download and Save Images"
   ]
  },
  {
   "cell_type": "code",
   "execution_count": null,
   "id": "b07a2f20-0a3f-43ea-a3d3-607d35e4a12e",
   "metadata": {},
   "outputs": [],
   "source": []
  }
 ],
 "metadata": {
  "kernelspec": {
   "display_name": "Python 3 (ipykernel)",
   "language": "python",
   "name": "python3"
  },
  "language_info": {
   "codemirror_mode": {
    "name": "ipython",
    "version": 3
   },
   "file_extension": ".py",
   "mimetype": "text/x-python",
   "name": "python",
   "nbconvert_exporter": "python",
   "pygments_lexer": "ipython3",
   "version": "3.9.7"
  }
 },
 "nbformat": 4,
 "nbformat_minor": 5
}
